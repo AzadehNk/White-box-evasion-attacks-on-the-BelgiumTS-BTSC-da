{
  "nbformat": 4,
  "nbformat_minor": 0,
  "metadata": {
    "accelerator": "GPU",
    "colab": {
      "name": " ADML_Final Project.ipynb",
      "provenance": [],
      "collapsed_sections": [
        "pbJKViiuFR93",
        "Szlc33XGndq6",
        "UPP4ZSl1kLuB",
        "U0JLRvgGrjSL",
        "AvBGOiJsroj-",
        "90vCzVPCHGrH",
        "QW3oGRRzFeuZ",
        "VatgD8XhF5nh",
        "lSIJwd7jGJqn",
        "U1tdouV-f6Jx",
        "Yi-fi5x8HavF",
        "afUY7CuYGpOh",
        "C0Aj0Gftk_Q7",
        "mEurcMLEHamI",
        "J4nLq012IAQg",
        "A0cur5QFIRqT",
        "o6VPpN80lL5A",
        "XVdURyplIWJJ",
        "d3uYnKBfq2-A",
        "uQv5FwqKq-Zb",
        "bqgyez9FAWmQ",
        "vnROA09gGi9c",
        "RXJViMLPfwL0",
        "L8FbGSwdKkaS",
        "FRz-nKUXK-_a",
        "oZpAofx3Luqs",
        "jYzzqz0OL-b3",
        "LwBcnQ2SMDBi",
        "paoOO20WMOP4",
        "MQt0Nf08MVyk",
        "45c4XFW7MbBP",
        "09o0-oqCkcOC",
        "TSB8Ss1IMocD",
        "fENh95nzM9O-",
        "9iXfRyGjkwvY",
        "TvDNPPJoNbIH",
        "466oXafMCBAn",
        "1G3al-oYCHNM",
        "803RQ3FJCRHD",
        "K1FU5DgkDlGU",
        "u8nFSL-Almjx",
        "AVAM4pogKRba",
        "hUFVBq8EKV-1",
        "TY-uCASvK0xZ",
        "tPC2srGHlwR4",
        "FfnblnofYCAT",
        "_PFu5GyjYGMi",
        "ZmVUs-Fxl2W1",
        "jhpWNSsvaLTQ",
        "ZOCJUliZbIW-"
      ]
    },
    "kernelspec": {
      "display_name": "Python 3",
      "name": "python3"
    },
    "language_info": {
      "name": "python"
    }
  },
  "cells": [
    {
      "cell_type": "markdown",
      "source": [
        "#Setup"
      ],
      "metadata": {
        "id": "Szlc33XGndq6"
      }
    },
    {
      "cell_type": "code",
      "source": [
        "import numpy as np\n",
        "import matplotlib.pyplot as plt\n",
        "import pandas as pd"
      ],
      "metadata": {
        "id": "jddKUaxrkIxy"
      },
      "execution_count": null,
      "outputs": []
    },
    {
      "cell_type": "code",
      "source": [
        "import torch\n",
        "from torch import nn\n",
        "import torch.nn as nn\n",
        "from torch.utils.data import Dataset, DataLoader, Subset\n",
        "import torchvision\n",
        "import torchvision.transforms\n",
        "from torchvision.transforms import ToTensor\n",
        "from torchvision.models import vgg16\n",
        "from torchvision.models import resnet50\n",
        "import torch.optim as optim\n",
        "\n",
        "!pip install adversarial-robustness-toolbox\n",
        "from art.attacks.evasion import DeepFool as DeepFool_\n",
        "from art.attacks.evasion import CarliniL2Method\n",
        "from art.estimators.classification import PyTorchClassifier\n",
        "from tqdm import tqdm\n",
        "\n",
        "from torch.utils.data import Dataset, DataLoader, Subset, random_split\n",
        "from PIL import Image\n",
        "from os import listdir\n",
        "import natsort\n",
        "from natsort import natsorted\n",
        "from torchvision.io import read_image\n",
        "from torchvision import transforms"
      ],
      "metadata": {
        "id": "bQDbZx3MkRlZ"
      },
      "execution_count": null,
      "outputs": []
    },
    {
      "cell_type": "code",
      "source": [
        "#FGSM & PGD\n",
        "!pip install -qq -e git+http://github.com/tensorflow/cleverhans.git#egg=cleverhans\n",
        "import sys\n",
        "sys.path.append('/content/src/cleverhans')\n",
        "import cleverhans\n",
        "\n",
        "from cleverhans.torch.attacks.fast_gradient_method import fast_gradient_method\n",
        "from cleverhans.torch.attacks.projected_gradient_descent import projected_gradient_descent\n"
      ],
      "metadata": {
        "id": "1WvntRKlkbTL"
      },
      "execution_count": null,
      "outputs": []
    },
    {
      "cell_type": "code",
      "source": [
        "!pip install adversarial-robustness-toolbox\n",
        "from art.attacks.evasion import DeepFool , SaliencyMapMethod, CarliniL2Method\n",
        "from art.estimators.classification import PyTorchClassifier"
      ],
      "metadata": {
        "id": "rNBJ0k8-kk0v"
      },
      "execution_count": null,
      "outputs": []
    },
    {
      "cell_type": "markdown",
      "source": [
        "#Data Loader"
      ],
      "metadata": {
        "id": "UPP4ZSl1kLuB"
      }
    },
    {
      "cell_type": "code",
      "metadata": {
        "id": "L9P5F_kIok4P"
      },
      "source": [
        "# from google.colab import drive\n",
        "# drive.mount('/content/drive')\n",
        "\n",
        "!wget https://btsd.ethz.ch/shareddata/BelgiumTSC/BelgiumTSC_Training.zip\n",
        "!wget https://btsd.ethz.ch/shareddata/BelgiumTSC/BelgiumTSC_Testing.zip"
      ],
      "execution_count": null,
      "outputs": []
    },
    {
      "cell_type": "code",
      "metadata": {
        "id": "fZZlADcuRb08"
      },
      "source": [
        "!unzip 'BelgiumTSC_Training.zip'\n",
        "!unzip 'BelgiumTSC_Testing.zip'"
      ],
      "execution_count": null,
      "outputs": []
    },
    {
      "cell_type": "markdown",
      "source": [
        "##Dataset Class"
      ],
      "metadata": {
        "id": "U0JLRvgGrjSL"
      }
    },
    {
      "cell_type": "code",
      "source": [
        "class BL_Dataset(Dataset):\n",
        "    def __init__(self, Data, transform=None):\n",
        "        if Data == \"train\":\n",
        "            directory = 'Training/'\n",
        "        elif Data == \"test\":\n",
        "            directory = 'Testing/'\n",
        "\n",
        "        folder_list = natsorted(listdir(directory))\n",
        "        folder_list = folder_list[:-1]\n",
        "        flist = []\n",
        "        label_list = []\n",
        "        for subfolder in folder_list:\n",
        "          subfiles = natsorted(listdir(directory+subfolder))\n",
        "          subfiles = subfiles[:-1]\n",
        "          for subfile in subfiles:\n",
        "            flist.append(directory+subfolder+'/'+subfile)\n",
        "            label_list.append(int(subfolder))\n",
        "        \n",
        "        self.images = [Image.open(f) for f in flist]\n",
        "        self.labels = torch.Tensor(label_list).long()\n",
        "\n",
        "        self.transform = transform\n",
        "    \n",
        "    def __len__(self):\n",
        "        return len(self.labels)\n",
        "\n",
        "    def __getitem__(self, idx):\n",
        "         image = self.images[idx]\n",
        "         label = self.labels[idx]\n",
        "         if self.transform:\n",
        "             image = self.transform(image)\n",
        "         return image, label"
      ],
      "metadata": {
        "id": "VSFA3YsepfUT"
      },
      "execution_count": null,
      "outputs": []
    },
    {
      "cell_type": "code",
      "metadata": {
        "id": "j0omjtv5bvov"
      },
      "source": [
        "dataset = BL_Dataset('train', transforms.Compose([transforms.ToTensor(),\n",
        "                                                 transforms.Resize((32,32))\n",
        "                                                 ]))\n",
        "test_dataset = BL_Dataset('test', transforms.Compose([transforms.ToTensor(),\n",
        "                                                      transforms.Resize((32,32))\n",
        "                                                     ]))\n",
        "train_dataset, validation_dataset = random_split(dataset, [round(.80*len(dataset)),\n",
        "                                                           int(.20*len(dataset))])"
      ],
      "execution_count": null,
      "outputs": []
    },
    {
      "cell_type": "code",
      "metadata": {
        "id": "LlHaHn1at00r"
      },
      "source": [
        "train_dataloader = DataLoader(train_dataset, shuffle=True, batch_size=64)\n",
        "test_dataloader = DataLoader(test_dataset, shuffle=True, batch_size=64)\n",
        "validation_dataloader = DataLoader(validation_dataset, shuffle=True, batch_size=64)"
      ],
      "execution_count": null,
      "outputs": []
    },
    {
      "cell_type": "markdown",
      "source": [
        "##Image samples"
      ],
      "metadata": {
        "id": "AvBGOiJsroj-"
      }
    },
    {
      "cell_type": "code",
      "metadata": {
        "colab": {
          "base_uri": "https://localhost:8080/",
          "height": 493
        },
        "id": "JQ16L4dfScry",
        "outputId": "a1d751fe-a7c1-470c-d384-f7f37340e5d3"
      },
      "source": [
        "plt.figure(figsize=(16, 10))\n",
        "data = iter(train_dataloader)\n",
        "for n in range(9):\n",
        "    ax = plt.subplot(3, 3, n+1)\n",
        "    image, labels = next(data)\n",
        "    img = image[0].permute(1, 2, 0).squeeze()\n",
        "    plt.imshow(img.numpy())\n",
        "    plt.title('Label:' + str([int(labels[0])]))\n",
        "    plt.axis('off')\n",
        "    "
      ],
      "execution_count": null,
      "outputs": [
        {
          "output_type": "display_data",
          "data": {
            "image/png": "[encoded data removed]",
            "text/plain": [
              "<Figure size 1152x720 with 9 Axes>"
            ]
          },
          "metadata": {
            "needs_background": "light"
          }
        }
      ]
    },
    {
      "cell_type": "markdown",
      "metadata": {
        "id": "90vCzVPCHGrH"
      },
      "source": [
        "# Task 1: Train two deep-learning classification models on the BTSC dataset."
      ]
    },
    {
      "cell_type": "markdown",
      "metadata": {
        "id": "QW3oGRRzFeuZ"
      },
      "source": [
        "##1-VGG16"
      ]
    },
    {
      "cell_type": "code",
      "metadata": {
        "id": "R1zVkJnt0nTh"
      },
      "source": [
        "#VGG16\n",
        "VGG16 = vgg16(pretrained=True)"
      ],
      "execution_count": null,
      "outputs": []
    },
    {
      "cell_type": "code",
      "metadata": {
        "id": "7e0UB2ea0w-I"
      },
      "source": [
        "VGG16.classifier._modules['6'] = nn.Linear(4096, 62)"
      ],
      "execution_count": null,
      "outputs": []
    },
    {
      "cell_type": "code",
      "metadata": {
        "id": "jzWre3SH4M0A"
      },
      "source": [
        "VGG16.cuda()"
      ],
      "execution_count": null,
      "outputs": []
    },
    {
      "cell_type": "markdown",
      "metadata": {
        "id": "VMmwveotFxv-"
      },
      "source": [
        "###Train"
      ]
    },
    {
      "cell_type": "code",
      "metadata": {
        "id": "VmRo5Omlk-GM"
      },
      "source": [
        "#Training\n",
        "criterion = nn.CrossEntropyLoss()\n",
        "optimizer = optim.SGD(VGG16.parameters(), lr=0.001, momentum=0.9)\n",
        "\n",
        "epoch_num = 10\n",
        "training_loss_plot = []\n",
        "training_accuracy_plot = []\n",
        "val_loss_plot = []\n",
        "val_accuracy_plot = []\n",
        "for epoch in range(epoch_num):  # loop over the dataset multiple times\n",
        "\n",
        "    running_loss = 0.0\n",
        "    total = 0\n",
        "    correct = 0\n",
        "    for i, data in enumerate(train_dataloader, 0):\n",
        "        # get the inputs; data is a list of [inputs, labels]\n",
        "        \n",
        "        inputs, labels = data\n",
        "        labels = labels.type(torch.LongTensor)\n",
        "        inputs, labels = inputs.cuda(), labels.cuda()\n",
        "\n",
        "        optimizer.zero_grad()\n",
        "\n",
        "        # forward + backward + optimize\n",
        "        outputs = VGG16(inputs)\n",
        "        loss = criterion(outputs, labels)\n",
        "        loss.backward()\n",
        "        optimizer.step()\n",
        "\n",
        "        # print statistics\n",
        "        running_loss += loss.item()\n",
        "        _, predicted = torch.max(outputs.data, 1)\n",
        "        total += labels.size(0)\n",
        "        correct += (predicted == labels).sum().item()\n",
        "        if i % 100 == 99:    # print every 100 mini-batches\n",
        "            print('[%d, %5d] loss: %.3f' %\n",
        "                  (epoch + 1, i + 1, running_loss / 100))\n",
        "           \n",
        "    training_loss_plot.append(running_loss)\n",
        "    training_accuracy_plot.append(correct/total)\n",
        "\n",
        "    #validation        \n",
        "    running_loss = 0.0\n",
        "    total = 0\n",
        "    correct = 0\n",
        "    with torch.no_grad():\n",
        "      for i, data in enumerate(validation_dataloader, 0):\n",
        "          # get the inputs; data is a list of [inputs, labels]\n",
        "          \n",
        "          inputs, labels = data\n",
        "          labels = labels.type(torch.LongTensor)\n",
        "          inputs, labels = inputs.cuda(), labels.cuda()\n",
        "          \n",
        "          # forward \n",
        "          outputs = VGG16(inputs)\n",
        "          loss = criterion(outputs, labels)\n",
        "\n",
        "          running_loss += loss.item()\n",
        "          _, predicted = torch.max(outputs.data, 1)\n",
        "          total += labels.size(0)\n",
        "          correct += (predicted == labels).sum().item() \n",
        "        \n",
        "    val_loss_plot.append(running_loss)\n",
        "    val_accuracy_plot.append(correct/total)\n",
        "print('Finished Training')\n",
        "print(\"validation \", val_accuracy_plot[epoch_num -1],\"training\", training_accuracy_plot[epoch_num-1])"
      ],
      "execution_count": null,
      "outputs": []
    },
    {
      "cell_type": "code",
      "metadata": {
        "id": "jLwhgZ8FtLso"
      },
      "source": [
        "VGG16.eval()"
      ],
      "execution_count": null,
      "outputs": []
    },
    {
      "cell_type": "markdown",
      "metadata": {
        "id": "VatgD8XhF5nh"
      },
      "source": [
        "###plot"
      ]
    },
    {
      "cell_type": "code",
      "metadata": {
        "id": "jIvNbcqowvdY"
      },
      "source": [
        "#VGG16 plot\n",
        "plt.plot(training_loss_plot)\n",
        "plt.plot(val_loss_plot)\n",
        "plt.title('Training and validation loss')\n",
        "plt.legend(['training loss', 'validation loss'])\n",
        "plt.show()\n",
        "plt.plot(training_accuracy_plot)\n",
        "plt.legend(['training loss', 'validation loss'])\n",
        "plt.plot(val_accuracy_plot)\n",
        "plt.legend(['training accuracy', 'validation accuracy'])\n",
        "plt.title('Training and validation accuracy')\n"
      ],
      "execution_count": null,
      "outputs": []
    },
    {
      "cell_type": "markdown",
      "metadata": {
        "id": "07a5GPaBF-XF"
      },
      "source": [
        "###Test"
      ]
    },
    {
      "cell_type": "code",
      "metadata": {
        "id": "L9QAKSpY211e"
      },
      "source": [
        "#Test\n",
        "correct = 0\n",
        "total = 0\n",
        "with torch.no_grad():\n",
        "  for data in test_dataloader:\n",
        "      images, labels = data\n",
        "      labels = labels.type(torch.LongTensor)\n",
        "      images = images.cuda()\n",
        "      labels = labels.cuda()\n",
        "      outputs = VGG16(images)\n",
        "      _, predicted = torch.max(outputs.data, 1)\n",
        "      total += labels.size(0)\n",
        "      correct += (predicted == labels).sum().item()\n",
        "print('Accuracy of the network on the test images: %f %%' % (\n",
        "100 * correct / total))"
      ],
      "execution_count": null,
      "outputs": []
    },
    {
      "cell_type": "markdown",
      "metadata": {
        "id": "lSIJwd7jGJqn"
      },
      "source": [
        "##2-ResNet50"
      ]
    },
    {
      "cell_type": "code",
      "metadata": {
        "id": "OY2VSaTu-Koh"
      },
      "source": [
        "#ResNet50\n",
        "ResNet50 = torchvision.models.resnet50(pretrained = True) "
      ],
      "execution_count": null,
      "outputs": []
    },
    {
      "cell_type": "code",
      "metadata": {
        "id": "eNlsyOjyg8Gr"
      },
      "source": [
        "ResNet50._modules['6'] = nn.Linear(4096, 62)"
      ],
      "execution_count": null,
      "outputs": []
    },
    {
      "cell_type": "markdown",
      "metadata": {
        "id": "yuV-bCkvGODu"
      },
      "source": [
        "###Train"
      ]
    },
    {
      "cell_type": "code",
      "metadata": {
        "id": "fs2JtjGQiI7x"
      },
      "source": [
        "#Training\n",
        "criterion = nn.CrossEntropyLoss()\n",
        "optimizer = optim.Adam(ResNet50.parameters(), lr=0.001) #, momentum=0.9)\n",
        "\n",
        "epoch_num = 10\n",
        "training_loss_plot = []\n",
        "training_accuracy_plot = []\n",
        "val_loss_plot = []\n",
        "val_accuracy_plot = []\n",
        "for epoch in range(epoch_num):  # loop over the dataset multiple times\n",
        "\n",
        "    running_loss = 0.0\n",
        "    total = 0\n",
        "    correct = 0\n",
        "    for i, data in enumerate(train_dataloader, 0):\n",
        "        # get the inputs; data is a list of [inputs, labels]\n",
        "        \n",
        "        inputs, labels = data\n",
        "        labels = labels.type(torch.LongTensor)\n",
        "        inputs, labels = inputs.cuda(), labels.cuda()\n",
        "        model = ResNet50\n",
        "\n",
        "        if torch.cuda.is_available():\n",
        "           model.cuda()\n",
        "\n",
        "        optimizer.zero_grad()\n",
        "\n",
        "\n",
        "        outputs = ResNet50(inputs)\n",
        "        loss = criterion(outputs, labels)\n",
        "        loss.backward()\n",
        "        optimizer.step()\n",
        "\n",
        "        running_loss += loss.item()\n",
        "        _, predicted = torch.max(outputs.data, 1)\n",
        "        total += labels.size(0)\n",
        "        correct += (predicted == labels).sum().item()\n",
        "        if i % 100 == 99:    # print every 100 mini-batches\n",
        "            print('[%d, %5d] loss: %.3f' %\n",
        "                  (epoch + 1, i + 1, running_loss / 100))\n",
        "           \n",
        "    training_loss_plot.append(running_loss)\n",
        "    training_accuracy_plot.append(correct/total)\n",
        "\n",
        "    #validation        \n",
        "    running_loss = 0.0\n",
        "    total = 0\n",
        "    correct = 0\n",
        "    with torch.no_grad():\n",
        "      for i, data in enumerate(validation_dataloader, 0):\n",
        "          # get the inputs; data is a list of [inputs, labels]\n",
        "          \n",
        "          inputs, labels = data\n",
        "          labels = labels.type(torch.LongTensor)\n",
        "          inputs, labels = inputs.cuda(), labels.cuda()\n",
        "          \n",
        "          outputs = ResNet50(inputs)\n",
        "          loss = criterion(outputs, labels)\n",
        "\n",
        "          running_loss += loss.item()\n",
        "          _, predicted = torch.max(outputs.data, 1)\n",
        "          total += labels.size(0)\n",
        "          correct += (predicted == labels).sum().item() \n",
        "        \n",
        "    val_loss_plot.append(running_loss)\n",
        "    val_accuracy_plot.append(correct/total)\n",
        "print('Finished Training')\n",
        "print(\"validation \", val_accuracy_plot[epoch_num -1],\"training\", training_accuracy_plot[epoch_num-1])"
      ],
      "execution_count": null,
      "outputs": []
    },
    {
      "cell_type": "code",
      "metadata": {
        "id": "N3fp-vJ3sAJX"
      },
      "source": [
        "ResNet50.eval()"
      ],
      "execution_count": null,
      "outputs": []
    },
    {
      "cell_type": "markdown",
      "metadata": {
        "id": "2_dRyoZBGSs6"
      },
      "source": [
        "###Plot"
      ]
    },
    {
      "cell_type": "code",
      "metadata": {
        "id": "1bDOzX_yiYTQ"
      },
      "source": [
        "#ResNet50 plot\n",
        "plt.plot(training_loss_plot)\n",
        "plt.plot(val_loss_plot)\n",
        "plt.title('Training and validation loss')\n",
        "plt.legend(['training loss', 'validation loss'])\n",
        "plt.show()\n",
        "plt.plot(training_accuracy_plot)\n",
        "plt.legend(['training loss', 'validation loss'])\n",
        "plt.plot(val_accuracy_plot)\n",
        "plt.legend(['training accuracy', 'validation accuracy'])\n",
        "plt.title('Training and validation accuracy')\n"
      ],
      "execution_count": null,
      "outputs": []
    },
    {
      "cell_type": "markdown",
      "metadata": {
        "id": "dQOh1agmGVeJ"
      },
      "source": [
        "###Test"
      ]
    },
    {
      "cell_type": "code",
      "metadata": {
        "id": "8z7TW_BAicFC"
      },
      "source": [
        "#Test\n",
        "correct = 0\n",
        "total = 0\n",
        "with torch.no_grad():\n",
        "  for data in test_dataloader:\n",
        "      images, labels = data\n",
        "      labels = labels.type(torch.LongTensor)\n",
        "      images = images.cuda()\n",
        "      labels = labels.cuda()\n",
        "      outputs = ResNet50(images)\n",
        "      _, predicted = torch.max(outputs.data, 1)\n",
        "      total += labels.size(0)\n",
        "      correct += (predicted == labels).sum().item()\n",
        "print('Accuracy of the network on the test images: %f %%' % (\n",
        "100 * correct / total))"
      ],
      "execution_count": null,
      "outputs": []
    },
    {
      "cell_type": "markdown",
      "metadata": {
        "id": "Yi-fi5x8HavF"
      },
      "source": [
        "#Task 2: non-targeted white-box evasion attacks against the deep learning models."
      ]
    },
    {
      "cell_type": "markdown",
      "metadata": {
        "id": "afUY7CuYGpOh"
      },
      "source": [
        "##1-VGG16"
      ]
    },
    {
      "cell_type": "code",
      "metadata": {
        "id": "AplnmzT-i7rz"
      },
      "source": [
        "epsilons = [0, 5/255,  10/255, 20/255, 50/255]"
      ],
      "execution_count": null,
      "outputs": []
    },
    {
      "cell_type": "markdown",
      "metadata": {
        "id": "9vhb26cXHAdB"
      },
      "source": [
        "###FSGM-VGG16"
      ]
    },
    {
      "cell_type": "code",
      "metadata": {
        "id": "csT_osBT32Uz"
      },
      "source": [
        "#FSGM- VGG16\n",
        "correct = 0\n",
        "total = 0\n",
        "accuracies_FSGM =[]\n",
        "sub_dataset = Subset(test_dataset, list(range(100)))\n",
        "subsest_dataloader = DataLoader(sub_dataset, batch_size=64)\n",
        "for epsilon in epsilons:\n",
        "  print(epsilon)\n",
        "  accuracy = []\n",
        "  for data in subsest_dataloader:\n",
        "    images, labels = data\n",
        "    # labels = labels.type(torch.LongTensor)\n",
        "    images = images.cuda()\n",
        "    labels = labels.cuda()\n",
        "    adversarial_images = fast_gradient_method(VGG16, images, epsilon, np.inf)\n",
        "    outputs = VGG16(adversarial_images)\n",
        "    _, predicted = torch.max(outputs.data, 1)\n",
        "    total += labels.size(0)\n",
        "    correct += (predicted == labels).sum().item()\n",
        "    accuracy.append(correct/total)\n",
        "\n",
        "  accuracies_FSGM.append(np.mean(accuracy))\n",
        "print(accuracies_FSGM)\n",
        "    \n"
      ],
      "execution_count": null,
      "outputs": []
    },
    {
      "cell_type": "markdown",
      "metadata": {
        "id": "5SC9NEYwHMpT"
      },
      "source": [
        "###PGD-VGG16"
      ]
    },
    {
      "cell_type": "code",
      "metadata": {
        "id": "kZwt105BgTH4"
      },
      "source": [
        "#PGD-VGG16\n",
        "correct = 0\n",
        "total = 0\n",
        "accuracies_PGD =[]\n",
        "sub_dataset = Subset(test_dataset, list(range(100)))\n",
        "subsest_dataloader = DataLoader(sub_dataset, batch_size=64)\n",
        "\n",
        "for epsilon in epsilons:\n",
        "  print(epsilon)\n",
        "  accuracy = []\n",
        "  for data in subsest_dataloader:\n",
        "    images, labels = data\n",
        "    # labels = labels.type(torch.LongTensor)\n",
        "    images = images.cuda()\n",
        "    labels = labels.cuda()\n",
        "    adversarial_images = projected_gradient_descent(model_fn = VGG16, x =images, eps = epsilon, eps_iter =2.5*epsilon/60, nb_iter =60, norm = np.inf)\n",
        "    outputs = VGG16(adversarial_images)\n",
        "    _, predicted = torch.max(outputs.data, 1)\n",
        "    total += labels.size(0)\n",
        "    correct += (predicted == labels).sum().item()\n",
        "    accuracy.append(correct/total)\n",
        "\n",
        "  accuracies_PGD.append(np.mean(accuracy))\n",
        "print(accuracies_PGD)"
      ],
      "execution_count": null,
      "outputs": []
    },
    {
      "cell_type": "markdown",
      "metadata": {
        "id": "dWITd3w5Aq7-"
      },
      "source": [
        "###DeepFool-VGG16"
      ]
    },
    {
      "cell_type": "code",
      "metadata": {
        "id": "kmhPsic8Adto"
      },
      "source": [
        "#DeepFool\n",
        "\n",
        "VGG16T = PyTorchClassifier(model=VGG16, loss=nn.CrossEntropyLoss(), nb_classes=62, input_shape=(3, 32, 32), device_type='gpu')\n",
        "accuracies_DF = []\n",
        "sub_dataset = Subset(test_dataset, list(range(100)))\n",
        "subsest_dataloader = DataLoader(sub_dataset, batch_size=64)\n",
        "\n",
        "correct = 0\n",
        "total = 0\n",
        "correct_attack = 0\n",
        "epsilons = [0, 5/255, 10/255, 20/255, 50/255]\n",
        "for epsilon in tqdm(epsilons):\n",
        "  print(epsilon)\n",
        "  accuracy = []\n",
        "  for data in subsest_dataloader:\n",
        "    images, labels = data\n",
        "    labels = labels.cuda()\n",
        "    adversarial_images = DeepFool(VGG16T, epsilon= epsilon, batch_size= 64, max_iter = 50).generate(images.numpy())\n",
        "    adversarial_images = torch.tensor(adversarial_images).cuda()    \n",
        "    outputs = VGG16(adversarial_images)\n",
        "    _, predicted = torch.max(outputs.data, 1)\n",
        "    total += labels.size(0)\n",
        "    correct += (predicted == labels).sum().item()\n",
        "    accuracy.append(correct/total)\n",
        "\n",
        "  accuracies_DF.append(np.mean(accuracy))\n",
        "print(accuracies_DF)\n"
      ],
      "execution_count": null,
      "outputs": []
    },
    {
      "cell_type": "markdown",
      "source": [
        "###CW2-VGG16"
      ],
      "metadata": {
        "id": "hwbq2TZhk1ae"
      }
    },
    {
      "cell_type": "code",
      "source": [
        "#CW2\n",
        "VGG16T = PyTorchClassifier(model=VGG16, loss=nn.CrossEntropyLoss(), nb_classes=62, input_shape=(3, 32, 32), device_type='gpu')\n",
        "accuracies_CW2 = []\n",
        "sub_dataset = Subset(test_dataset, list(range(100)))\n",
        "subsest_dataloader = DataLoader(sub_dataset, batch_size=64)\n",
        "kap = [0, 0.1, 0.5, 1.0]\n",
        "correct = 0\n",
        "total = 0\n",
        "correct_attack = 0\n",
        "for k in tqdm(kap) :\n",
        "  accuracy = []\n",
        "  for data in subsest_dataloader:\n",
        "    images, labels = data\n",
        "    labels = labels.cuda()\n",
        "    adversarial_images = CarliniL2Method(VGG16T, confidence = k, \n",
        "                                         learning_rate = 0.01,\n",
        "                                         max_iter = 7,\n",
        "                                         batch_size = 64).generate(images.numpy())\n",
        "    adversarial_images = torch.tensor(adversarial_images).cuda()    \n",
        "    outputs = VGG16(adversarial_images)\n",
        "    _, predicted = torch.max(outputs.data, 1)\n",
        "    total += labels.size(0)\n",
        "    correct += (predicted == labels).sum().item()\n",
        "    accuracy.append(correct/total)\n",
        "\n",
        "  accuracies_CW2.append(np.mean(accuracy))\n",
        "print(accuracies_CW2)\n"
      ],
      "metadata": {
        "id": "oM7ESbZDsvJ8"
      },
      "execution_count": null,
      "outputs": []
    },
    {
      "cell_type": "markdown",
      "metadata": {
        "id": "xDUyn_KaHS-A"
      },
      "source": [
        "###VGG16-FSGM_PGD_DeepFool plot"
      ]
    },
    {
      "cell_type": "code",
      "metadata": {
        "id": "G_Cqk3bZvwwD"
      },
      "source": [
        "#VGG16-FSGM-PGD plot\n",
        "plt.figure(figsize=(5,5))\n",
        "plt.plot(epsilons, accuracies_FSGM, \"o-\")\n",
        "plt.plot(epsilons, accuracies_PGD, \"o-\")\n",
        "plt.plot(epsilons, accuracies_DF, \"o-\")\n",
        "\n",
        "\n",
        "plt.legend(['FSGM', 'PGD' , 'DeepFool'])\n",
        "plt.title(\"Accuracy vs Epsilon\")\n",
        "plt.xlabel(\"Epsilon\")\n",
        "plt.ylabel(\"Accuracy\")\n",
        "plt.show()\n"
      ],
      "execution_count": null,
      "outputs": []
    },
    {
      "cell_type": "markdown",
      "source": [
        "###VGG16-CW2 plot"
      ],
      "metadata": {
        "id": "C0Aj0Gftk_Q7"
      }
    },
    {
      "cell_type": "code",
      "source": [
        "plt.plot(kap, accuracies_CW2, \"o-\")\n",
        "plt.legend(['CW2'])\n",
        "plt.title(\"Accuracy vs confidence\")\n",
        "plt.xlabel(\"confidence\")\n",
        "plt.ylabel(\"Accuracy\")\n",
        "plt.show()"
      ],
      "metadata": {
        "id": "kj7hBU9kZo6W"
      },
      "execution_count": null,
      "outputs": []
    },
    {
      "cell_type": "markdown",
      "metadata": {
        "id": "mEurcMLEHamI"
      },
      "source": [
        "###FSGM-VGG16 image plot"
      ]
    },
    {
      "cell_type": "code",
      "metadata": {
        "id": "Wlz_PQwozcwB"
      },
      "source": [
        "#FSGM- VGG16- image plot\n",
        "\n",
        "sub_dataset = Subset(test_dataset, list(range(100)))\n",
        "subsest_dataloader = DataLoader(sub_dataset, batch_size=1)\n",
        "plt.figure(figsize=(20,15), constrained_layout=True)\n",
        "cnt =1\n",
        "left  = 0.125  # the left side of the subplots of the figure\n",
        "right = 0.9    # the right side of the subplots of the figure\n",
        "bottom = 0.5   # the bottom of the subplots of the figure\n",
        "top = 1.5    # the top of the subplots of the figure\n",
        "wspace = 0.2   # the amount of width reserved for blank space between subplots\n",
        "hspace = 0.5\n",
        "plt.subplots_adjust(left, bottom, right, top, wspace, hspace)\n",
        "\n",
        "for data in subsest_dataloader:\n",
        "  for epsilon in epsilons: \n",
        "    images, labels = data\n",
        "    images = images.cuda()\n",
        "    labels = labels.cuda()\n",
        "    adversarial_images = fast_gradient_method(VGG16, images, epsilon, np.inf)\n",
        "    outputs = VGG16(adversarial_images)\n",
        "    _, predicted = torch.max(outputs.data, 1)\n",
        "    plt.subplot(6, 3, cnt)\n",
        "    img = adversarial_images.cpu().detach().numpy()[0]\n",
        "    img = np.transpose(img, [1,2,0])\n",
        "    plt.imshow(img)\n",
        "    label = predicted.cpu().detach().numpy()[0]\n",
        "    plt.title('epsilon: '+ str(epsilon)+ '\\n' + 'predicted label: ' + str([int(labels[0])]))\n",
        "    \n",
        "    plt.axis('off')\n",
        "    cnt +=1\n",
        "  break\n",
        "    \n"
      ],
      "execution_count": null,
      "outputs": []
    },
    {
      "cell_type": "markdown",
      "metadata": {
        "id": "J4nLq012IAQg"
      },
      "source": [
        "##2- ResNet50"
      ]
    },
    {
      "cell_type": "markdown",
      "metadata": {
        "id": "iR2JMAB3IJnY"
      },
      "source": [
        "###FSGM-ResNet50"
      ]
    },
    {
      "cell_type": "code",
      "metadata": {
        "id": "sTWAEf78iAMp"
      },
      "source": [
        "#FGSM- ResNet50\n",
        "total = 0\n",
        "correct = 0\n",
        "accuracies =[]\n",
        "sub_dataset = Subset(test_dataset, list(range(100)))\n",
        "subsest_dataloader = DataLoader(sub_dataset, batch_size=64)\n",
        "\n",
        "for epsilon in epsilons:\n",
        "  print(epsilon)\n",
        "  accuracy = []\n",
        "  for data in subsest_dataloader:\n",
        "    images, labels = data\n",
        "    images = images.cuda()\n",
        "    labels = labels.cuda()\n",
        "    adversarial_images = fast_gradient_method(ResNet50, images, epsilon, np.inf)\n",
        "    outputs = ResNet50(adversarial_images)\n",
        "    _, predicted = torch.max(outputs.data, 1)\n",
        "    total += labels.size(0)\n",
        "    correct += (predicted == labels).sum().item()\n",
        "    accuracy.append(correct/total)\n",
        "\n",
        "  accuracies.append(np.mean(accuracy))\n",
        "print(accuracies)\n"
      ],
      "execution_count": null,
      "outputs": []
    },
    {
      "cell_type": "markdown",
      "metadata": {
        "id": "hN_BeD80IOYk"
      },
      "source": [
        "###PGD-ResNet50"
      ]
    },
    {
      "cell_type": "code",
      "metadata": {
        "id": "BfmUp6i1iz0E"
      },
      "source": [
        "#PGD- ResNet50\n",
        "correct = 0\n",
        "total = 0\n",
        "accuracies =[]\n",
        "sub_dataset = Subset(test_dataset, list(range(100)))\n",
        "subsest_dataloader = DataLoader(sub_dataset, batch_size=64)\n",
        "\n",
        "for epsilon in epsilons:\n",
        "  print(epsilon)\n",
        "  accuracy = []\n",
        "  for data in subsest_dataloader:\n",
        "    images, labels = data\n",
        "    images = images.cuda()\n",
        "    labels = labels.cuda()\n",
        "    adversarial_images = projected_gradient_descent(model_fn = ResNet50, x =images, eps = epsilon, eps_iter =2.5*epsilon/60, nb_iter =60, norm = np.inf)\n",
        "    outputs = ResNet50(adversarial_images)\n",
        "    _, predicted = torch.max(outputs.data, 1)\n",
        "    total += labels.size(0)\n",
        "    correct += (predicted == labels).sum().item()\n",
        "    accuracy.append(correct/total)\n",
        "\n",
        "  accuracies.append(np.mean(accuracy))\n",
        "print(accuracies)"
      ],
      "execution_count": null,
      "outputs": []
    },
    {
      "cell_type": "code",
      "source": [
        "#DeepFool\n",
        "accuracies_DF = []\n",
        "ResNet50_RS = PyTorchClassifier(model=ResNet50, loss=nn.CrossEntropyLoss(), nb_classes=62, input_shape=(3, 32, 32), device_type='gpu')\n",
        "\n",
        "sub_dataset = Subset(test_dataset, list(range(100)))\n",
        "subsest_dataloader = DataLoader(sub_dataset, batch_size=64)\n",
        "\n",
        "correct = 0\n",
        "total = 0\n",
        "correct_attack = 0\n",
        "for epsilon in tqdm(epsilons):\n",
        "  print(epsilon)\n",
        "  accuracy = []\n",
        "  for data in subsest_dataloader:\n",
        "    images, labels = data\n",
        "    labels = labels.cuda()\n",
        "    adversarial_images = DeepFool(ResNet50_RS, epsilon= epsilon, batch_size = 64, max_iter = 50).generate(images.numpy())\n",
        "    adversarial_images = torch.tensor(adversarial_images).cuda()    \n",
        "    outputs = ResNet50(adversarial_images)\n",
        "    _, predicted = torch.max(outputs.data, 1)\n",
        "    total += labels.size(0)\n",
        "    correct += (predicted == labels).sum().item()\n",
        "    accuracy.append(correct/total)\n",
        "\n",
        "  accuracies_DF.append(np.mean(accuracy))\n",
        "print(accuracies_DF)\n"
      ],
      "metadata": {
        "id": "rmHeMSnYXpnL"
      },
      "execution_count": null,
      "outputs": []
    },
    {
      "cell_type": "code",
      "source": [
        "#CW2\n",
        "accuracies_CW2 = []\n",
        "sub_dataset = Subset(test_dataset, list(range(100)))\n",
        "subsest_dataloader = DataLoader(sub_dataset, batch_size=64)\n",
        "kap = [0, 0.1, 0.5, 1.0]\n",
        "correct = 0\n",
        "total = 0\n",
        "correct_attack = 0\n",
        "for k in tqdm(kap):\n",
        "  accuracy = []\n",
        "  for data in subsest_dataloader:\n",
        "    images, labels = data\n",
        "    labels = labels.cuda()\n",
        "    adversarial_images = CarliniL2Method(ResNet50_RS, confidence = k, learning_rate = 0.001, max_iter = 7, batch_size = 64).generate(images.numpy())\n",
        "    adversarial_images = torch.tensor(adversarial_images).cuda()    \n",
        "    outputs = ResNet50(adversarial_images)\n",
        "    _, predicted = torch.max(outputs.data, 1)\n",
        "    total += labels.size(0)\n",
        "    correct += (predicted == labels).sum().item()\n",
        "    accuracy.append(correct/total)\n",
        "\n",
        "  accuracies_CW2.append(np.mean(accuracy))\n",
        "print(accuracies_CW2)\n"
      ],
      "metadata": {
        "id": "TBU4j6cAYDpm"
      },
      "execution_count": null,
      "outputs": []
    },
    {
      "cell_type": "markdown",
      "metadata": {
        "id": "A0cur5QFIRqT"
      },
      "source": [
        "###DF-FSGM-PGD-ResNet50 plot"
      ]
    },
    {
      "cell_type": "code",
      "metadata": {
        "id": "MgHjmufxlnhp"
      },
      "source": [
        "\n",
        "plt.plot(epsilons, accuracies_FSGM, \"o-\")\n",
        "plt.plot(epsilons, accuracies_PGD, \"o-\")\n",
        "plt.plot(epsilons, accuracies_DF, \"o-\")\n",
        "\n",
        "plt.legend(['FSGM', 'PGD', 'DF'])\n",
        "plt.title(\"Accuracy vs Epsilon\")\n",
        "plt.xlabel(\"Epsilon\")\n",
        "plt.ylabel(\"Accuracy\")\n",
        "plt.show()\n"
      ],
      "execution_count": null,
      "outputs": []
    },
    {
      "cell_type": "markdown",
      "source": [
        "###CW2-ResNet50 plot"
      ],
      "metadata": {
        "id": "o6VPpN80lL5A"
      }
    },
    {
      "cell_type": "code",
      "source": [
        "plt.plot(kap, accuracies_CW2, \"o-\")\n",
        "plt.legend(['CW2'])\n",
        "plt.title(\"Accuracy vs confidence\")\n",
        "plt.xlabel(\"confidence\")\n",
        "plt.ylabel(\"Accuracy\")\n",
        "plt.show()"
      ],
      "metadata": {
        "id": "XMeuNwgxZ6Ou"
      },
      "execution_count": null,
      "outputs": []
    },
    {
      "cell_type": "markdown",
      "metadata": {
        "id": "XVdURyplIWJJ"
      },
      "source": [
        "###FSGM-ResNet50 image plot"
      ]
    },
    {
      "cell_type": "code",
      "metadata": {
        "id": "qICUzjFfHogX"
      },
      "source": [
        "#FSGM- ResNet50- image plot\n",
        "sub_dataset = Subset(test_dataset, list(range(100)))\n",
        "subsest_dataloader = DataLoader(sub_dataset, batch_size=1)\n",
        "plt.figure(figsize=(20,15))\n",
        "cnt =1\n",
        "left  = 0.125  # the left side of the subplots of the figure\n",
        "right = 0.9    # the right side of the subplots of the figure\n",
        "bottom = 0.5   # the bottom of the subplots of the figure\n",
        "top = 1.5    # the top of the subplots of the figure\n",
        "wspace = 0.2   # the amount of width reserved for blank space between subplots\n",
        "hspace = 0.5\n",
        "plt.subplots_adjust(left, bottom, right, top, wspace, hspace)\n",
        "\n",
        "for data in subsest_dataloader:\n",
        "  for epsilon in epsilons: \n",
        "    images, labels = data\n",
        "    images = images.cuda()\n",
        "    labels = labels.cuda()\n",
        "    adversarial_images = projected_gradient_descent(model_fn = ResNet50, x =images, eps = epsilon, eps_iter =2.5*epsilon/60, nb_iter =60, norm = np.inf)\n",
        "    outputs = ResNet50(adversarial_images)\n",
        "    _, predicted = torch.max(outputs.data, 1)\n",
        "    plt.subplot(6, 2, cnt)\n",
        "    img = adversarial_images.cpu().detach().numpy()[0]\n",
        "    img = np.transpose(img, [1,2,0])\n",
        "    plt.imshow(img)\n",
        "    label = predicted.cpu().detach().numpy()[0]\n",
        "    plt.title('epsilon: '+ str(epsilon)+ '\\n' + 'predicted label: ' + str([int(labels[0])]))\n",
        "    cnt +=1\n",
        "  break\n",
        "    \n"
      ],
      "execution_count": null,
      "outputs": []
    },
    {
      "cell_type": "markdown",
      "metadata": {
        "id": "vnROA09gGi9c"
      },
      "source": [
        "# Task 3: Implement targeted white-box evasion attacks against the deep learning models."
      ]
    },
    {
      "cell_type": "markdown",
      "metadata": {
        "id": "RXJViMLPfwL0"
      },
      "source": [
        "##1- Targeted PGD"
      ]
    },
    {
      "cell_type": "markdown",
      "metadata": {
        "id": "28GXzw93Lddp"
      },
      "source": [
        "###VGG16"
      ]
    },
    {
      "cell_type": "markdown",
      "metadata": {
        "id": "PZIPtUURfp2G"
      },
      "source": [
        "#### Accuracy on Label 21- Stop sign"
      ]
    },
    {
      "cell_type": "code",
      "metadata": {
        "id": "uALxQ05JlnW5"
      },
      "source": [
        "#PGD-VGG16\n",
        "total = 0\n",
        "correct = 0\n",
        "list1 = []\n",
        "for i in range (len(test_dataset)):\n",
        "  if test_dataset[i][1] == 21:\n",
        "    list1.append(i)\n",
        "accuracies_PGD =[]\n",
        "sub_dataset = Subset(test_dataset, list1)\n",
        "subsest_dataloader = DataLoader(sub_dataset, batch_size=64)\n",
        "\n",
        "for epsilon in epsilons:\n",
        "  print(epsilon)\n",
        "  accuracy = []\n",
        "  for data in subsest_dataloader:\n",
        "    images, labels = data\n",
        "    images = images.cuda()\n",
        "    labels = labels.cuda()\n",
        "    labels_f = torch.ones_like(labels).cuda()\n",
        "    labels_f = labels_f.type(torch.LongTensor).cuda()\n",
        "    adversarial_images = projected_gradient_descent(model_fn = VGG16, x =images,\n",
        "                                                    eps = epsilon, eps_iter =2.5*epsilon/60, nb_iter =60, norm = np.inf, y = labels_f,  targeted = True )\n",
        "    outputs = VGG16(adversarial_images)\n",
        "    _, predicted = torch.max(outputs.data, 1)\n",
        "    total += labels.size(0)\n",
        "    correct += (predicted == labels).sum().item()\n",
        "    accuracy.append(correct/total)\n",
        "\n",
        "  accuracies_PGD.append(np.mean(accuracy))\n",
        "print(accuracies_PGD)"
      ],
      "execution_count": null,
      "outputs": []
    },
    {
      "cell_type": "markdown",
      "metadata": {
        "id": "tmKi_EpvfkHN"
      },
      "source": [
        "#### Accuracy on Label 32- speed limit"
      ]
    },
    {
      "cell_type": "code",
      "metadata": {
        "id": "ANvm3_grfOdk"
      },
      "source": [
        "#PGD-VGG16\n",
        "total = 0\n",
        "correct = 0\n",
        "list2 = []\n",
        "for i in range (len(test_dataset)):\n",
        "  if test_dataset[i][1] == 32:\n",
        "    list2.append(i)\n",
        "accuracies_PGD =[]\n",
        "sub_dataset = Subset(test_dataset, list2)\n",
        "subsest_dataloader = DataLoader(sub_dataset, batch_size=64)\n",
        "\n",
        "for epsilon in epsilons:\n",
        "  print(epsilon)\n",
        "  accuracy = []\n",
        "  for data in subsest_dataloader:\n",
        "    images, labels = data\n",
        "    images = images.cuda()\n",
        "    labels = labels.cuda()\n",
        "    labels_f = torch.ones_like(labels).cuda()\n",
        "    labels_f = labels_f.type(torch.LongTensor).cuda()\n",
        "    adversarial_images = projected_gradient_descent(model_fn = VGG16, x =images,\n",
        "                                                    eps = epsilon, eps_iter =2.5*epsilon/60, nb_iter =60, norm = np.inf, y = labels_f,  targeted = True )\n",
        "    outputs = VGG16(adversarial_images)\n",
        "    _, predicted = torch.max(outputs.data, 1)\n",
        "    total += labels.size(0)\n",
        "    correct += (predicted == labels_f).sum().item()\n",
        "    accuracy.append(correct/total)\n",
        "\n",
        "  accuracies_PGD.append(np.mean(accuracy))\n",
        "print(accuracies_PGD)"
      ],
      "execution_count": null,
      "outputs": []
    },
    {
      "cell_type": "markdown",
      "metadata": {
        "id": "L8FbGSwdKkaS"
      },
      "source": [
        "####PGD- VGG16 image plot"
      ]
    },
    {
      "cell_type": "code",
      "metadata": {
        "id": "70F299THgbRD"
      },
      "source": [
        "#PGD- VGG16- image plot\n",
        "accuracies_PGD =[]\n",
        "sub_dataset = Subset(test_dataset, list1)\n",
        "subset_dataloader = DataLoader(sub_dataset, batch_size=1)\n",
        "\n",
        "plt.figure(figsize=(10,15))\n",
        "cnt =1\n",
        "left  = 0.125  # the left side of the subplots of the figure\n",
        "right = 0.9    # the right side of the subplots of the figure\n",
        "bottom = 0.5   # the bottom of the subplots of the figure\n",
        "top = 1.5    # the top of the subplots of the figure\n",
        "wspace = 0.2   # the amount of width reserved for blank space between subplots\n",
        "hspace = 0.5\n",
        "plt.subplots_adjust(left, bottom, right, top, wspace, hspace)\n",
        "\n",
        "for epsilon in epsilons:\n",
        "  print(epsilon)\n",
        "  accuracy = []\n",
        "  for data in subset_dataloader:\n",
        "    images, labels = data\n",
        "    images = images.cuda()\n",
        "    labels = labels.cuda()\n",
        "    labels_f = torch.ones_like(labels).cuda()\n",
        "    labels_f = labels_f.type(torch.LongTensor).cuda()\n",
        "    adversarial_images = projected_gradient_descent(model_fn = VGG16, x =images, eps = epsilon, eps_iter =2.5*epsilon/60, nb_iter =60, norm = np.inf, y = labels_f,  targeted = True )\n",
        "    outputs = VGG16(adversarial_images)\n",
        "    _, predicted = torch.max(outputs.data, 1)\n",
        "    plt.subplot(5, 2, cnt)\n",
        "    img = adversarial_images.cpu().detach().numpy()[0]\n",
        "    img = np.transpose(img, [1,2,0])\n",
        "    plt.imshow(img)\n",
        "    label = predicted.cpu().detach().numpy()[0]\n",
        "    plt.title('epsilon: '+ str(epsilon)+ '\\n' + 'predicted label: ' + str([int(labels[0])]))\n",
        "    cnt +=1\n",
        "    break\n",
        "  \n",
        "    \n",
        "    "
      ],
      "execution_count": null,
      "outputs": []
    },
    {
      "cell_type": "markdown",
      "metadata": {
        "id": "FRz-nKUXK-_a"
      },
      "source": [
        "### ResNet50"
      ]
    },
    {
      "cell_type": "markdown",
      "metadata": {
        "id": "oZpAofx3Luqs"
      },
      "source": [
        "#### Accuracy on label 21"
      ]
    },
    {
      "cell_type": "code",
      "metadata": {
        "id": "sC4cll5mPdcB"
      },
      "source": [
        "#ResNet50- PGD\n",
        "total = 0\n",
        "correct = 0\n",
        "list4 = []\n",
        "for i in range (len(test_dataset)):\n",
        "  if test_dataset[i][1] == 21:\n",
        "    list4.append(i)\n",
        "accuracies_PGD =[]\n",
        "sub_dataset = Subset(test_dataset, list4)\n",
        "subsest_dataloader = DataLoader(sub_dataset, batch_size=64)\n",
        "\n",
        "for epsilon in epsilons:\n",
        "  print(epsilon)\n",
        "  accuracy = []\n",
        "  for data in subsest_dataloader:\n",
        "    images, labels = data\n",
        "    images = images.cuda()\n",
        "    labels = labels.cuda()\n",
        "    labels_f = torch.ones_like(labels).cuda()\n",
        "    labels_f = labels_f.type(torch.LongTensor).cuda()\n",
        "    adversarial_images = projected_gradient_descent(model_fn = ResNet50, x =images, eps = epsilon, eps_iter =2.5*epsilon/60, nb_iter =60, norm = np.inf, y = labels_f,  targeted = True )\n",
        "    outputs = ResNet50(adversarial_images)\n",
        "    _, predicted = torch.max(outputs.data, 1)\n",
        "    total += labels.size(0)\n",
        "    correct += (predicted == labels).sum().item()\n",
        "    accuracy.append(correct/total)\n",
        "\n",
        "  accuracies_PGD.append(np.mean(accuracy))\n",
        "print(accuracies_PGD)"
      ],
      "execution_count": null,
      "outputs": []
    },
    {
      "cell_type": "markdown",
      "metadata": {
        "id": "jYzzqz0OL-b3"
      },
      "source": [
        "#### Accuracy on Label 32"
      ]
    },
    {
      "cell_type": "code",
      "metadata": {
        "id": "pkgrlxvIkJKw"
      },
      "source": [
        "#ResNet50- PGD\n",
        "total = 0\n",
        "correct = 0\n",
        "list5 = []\n",
        "for i in range (len(test_dataset)):\n",
        "  if test_dataset[i][1] == 32:\n",
        "    list5.append(i)\n",
        "accuracies_PGD =[]\n",
        "sub_dataset = Subset(test_dataset, list5)\n",
        "subsest_dataloader = DataLoader(sub_dataset, batch_size=64)\n",
        "\n",
        "for epsilon in epsilons:\n",
        "  print(epsilon)\n",
        "  accuracy = []\n",
        "  for data in subsest_dataloader:\n",
        "    images, labels = data\n",
        "    images = images.cuda()\n",
        "    labels = labels.cuda()\n",
        "    labels_f = torch.ones_like(labels).cuda()\n",
        "    labels_f = labels_f.type(torch.LongTensor).cuda()\n",
        "    adversarial_images = projected_gradient_descent(model_fn = ResNet50, x =images, eps = epsilon, eps_iter =2.5*epsilon/60, nb_iter =60, norm = np.inf, y = labels_f,  targeted = True )\n",
        "    outputs = ResNet50(adversarial_images)\n",
        "    _, predicted = torch.max(outputs.data, 1)\n",
        "    total += labels.size(0)\n",
        "    correct += (predicted == labels_f).sum().item()\n",
        "    accuracy.append(correct/total)\n",
        "\n",
        "  accuracies_PGD.append(np.mean(accuracy))\n",
        "print(accuracies_PGD)"
      ],
      "execution_count": null,
      "outputs": []
    },
    {
      "cell_type": "markdown",
      "metadata": {
        "id": "LwBcnQ2SMDBi"
      },
      "source": [
        "####PGD- ResNet50 Image plot"
      ]
    },
    {
      "cell_type": "code",
      "metadata": {
        "id": "2xAnWeQ-QHwK"
      },
      "source": [
        "#ResNet50- PGD- Image plot\n",
        "accuracies_PGD =[]\n",
        "sub_dataset = Subset(test_dataset, list4)\n",
        "subsest_dataloader = DataLoader(sub_dataset, batch_size=1)\n",
        "\n",
        "plt.figure(figsize=(10,15))\n",
        "cnt =1\n",
        "left  = 0.125  # the left side of the subplots of the figure\n",
        "right = 0.9    # the right side of the subplots of the figure\n",
        "bottom = 0.5   # the bottom of the subplots of the figure\n",
        "top = 1.5    # the top of the subplots of the figure\n",
        "wspace = 0.2   # the amount of width reserved for blank space between subplots\n",
        "hspace = 0.5\n",
        "plt.subplots_adjust(left, bottom, right, top, wspace, hspace)\n",
        "\n",
        "for epsilon in epsilons:\n",
        "  print(epsilon)\n",
        "  accuracy = []\n",
        "  # skip = True\n",
        "  for data in subsest_dataloader:\n",
        "    #if skip:\n",
        "    #  skip = False\n",
        "    #  continue\n",
        "    images, labels = data\n",
        "    images = images.cuda()\n",
        "    labels = labels.cuda()\n",
        "    labels_f = torch.ones_like(labels).cuda()\n",
        "    labels_f = labels_f.type(torch.LongTensor).cuda()\n",
        "    adversarial_images = projected_gradient_descent(model_fn = ResNet50, x =images, eps = epsilon, eps_iter =2.5*epsilon/60, nb_iter =60, norm = np.inf, y = labels_f,  targeted = True )\n",
        "    outputs = ResNet50(adversarial_images)\n",
        "    _, predicted = torch.max(outputs.data, 1)\n",
        "    plt.subplot(6, 2, cnt)\n",
        "    img = adversarial_images.cpu().detach().numpy()[0]\n",
        "    img = np.transpose(img, [1,2,0])\n",
        "    plt.imshow(img)\n",
        "    label = predicted.cpu().detach().numpy()[0]\n",
        "    plt.title('epsilon: '+ str(epsilon)+ '\\n' + 'predicted label: ' + str([int(labels[0])]))\n",
        "    cnt +=1\n",
        "    break\n",
        "    \n",
        "    "
      ],
      "execution_count": null,
      "outputs": []
    },
    {
      "cell_type": "markdown",
      "metadata": {
        "id": "paoOO20WMOP4"
      },
      "source": [
        "##2- Targeted FGSM"
      ]
    },
    {
      "cell_type": "markdown",
      "metadata": {
        "id": "MQt0Nf08MVyk"
      },
      "source": [
        "### VGG16"
      ]
    },
    {
      "cell_type": "markdown",
      "metadata": {
        "id": "45c4XFW7MbBP"
      },
      "source": [
        "#### Accuracy on label 21"
      ]
    },
    {
      "cell_type": "code",
      "metadata": {
        "id": "_lRn0HlTQbY-"
      },
      "source": [
        "#VGG16- FGSM\n",
        "total = 0\n",
        "correct = 0\n",
        "list6 = []\n",
        "for i in range (len(test_dataset)):\n",
        "  if test_dataset[i][1] == 21:\n",
        "    list6.append(i)\n",
        "accuracies_FGSM =[]\n",
        "sub_dataset = Subset(test_dataset, list6)\n",
        "subsest_dataloader = DataLoader(sub_dataset, batch_size=64)\n",
        "\n",
        "for epsilon in epsilons:\n",
        "  print(epsilon)\n",
        "  accuracy = []\n",
        "  for data in subsest_dataloader:\n",
        "    images, labels = data\n",
        "    images = images.cuda()\n",
        "    labels = labels.cuda()\n",
        "    labels_f = torch.ones_like(labels).cuda()\n",
        "    labels_f = labels_f.type(torch.LongTensor).cuda()\n",
        "    adversarial_images = fast_gradient_method(model_fn = VGG16, x =images, eps = epsilon, norm = np.inf, y = labels_f,  targeted = True )\n",
        "    outputs = VGG16(adversarial_images)\n",
        "    _, predicted = torch.max(outputs.data, 1)\n",
        "    total += labels.size(0)\n",
        "    correct += (predicted == labels).sum().item()\n",
        "    accuracy.append(correct/total)\n",
        "\n",
        "  accuracies_FGSM.append(np.mean(accuracy))\n",
        "print(accuracies_FGSM)"
      ],
      "execution_count": null,
      "outputs": []
    },
    {
      "cell_type": "markdown",
      "metadata": {
        "id": "09o0-oqCkcOC"
      },
      "source": [
        "#### Accuracy on Label 32"
      ]
    },
    {
      "cell_type": "code",
      "metadata": {
        "id": "luH0mnoVkTUI"
      },
      "source": [
        "#VGG16- FGSM\n",
        "total = 0\n",
        "correct = 0\n",
        "list7 = []\n",
        "for i in range (len(test_dataset)):\n",
        "  if test_dataset[i][1] == 32:\n",
        "    list7.append(i)\n",
        "accuracies_FGSM =[]\n",
        "sub_dataset = Subset(test_dataset, list7)\n",
        "subsest_dataloader = DataLoader(sub_dataset, batch_size=64)\n",
        "\n",
        "for epsilon in epsilons:\n",
        "  print(epsilon)\n",
        "  accuracy = []\n",
        "  for data in subsest_dataloader:\n",
        "    images, labels = data\n",
        "    images = images.cuda()\n",
        "    labels = labels.cuda()\n",
        "    labels_f = torch.ones_like(labels).cuda()\n",
        "    labels_f = labels_f.type(torch.LongTensor).cuda()\n",
        "    adversarial_images = fast_gradient_method(model_fn = VGG16, x =images, eps = epsilon, norm = np.inf, y = labels_f,  targeted = True )\n",
        "    outputs = VGG16(adversarial_images)\n",
        "    _, predicted = torch.max(outputs.data, 1)\n",
        "    total += labels.size(0)\n",
        "    correct += (predicted == labels_f).sum().item()\n",
        "    accuracy.append(correct/total)\n",
        "\n",
        "  accuracies_FGSM.append(np.mean(accuracy))\n",
        "print(accuracies_FGSM)"
      ],
      "execution_count": null,
      "outputs": []
    },
    {
      "cell_type": "markdown",
      "metadata": {
        "id": "TSB8Ss1IMocD"
      },
      "source": [
        "#### FGSM-VGG16 image plot"
      ]
    },
    {
      "cell_type": "code",
      "metadata": {
        "id": "6lGxKdmaRceU"
      },
      "source": [
        "#VGG16- FGSM- Image plot\n",
        "accuracies_FGSM =[]\n",
        "sub_dataset = Subset(test_dataset, list6)\n",
        "subsest_dataloader = DataLoader(sub_dataset, batch_size=1)\n",
        "\n",
        "plt.figure(figsize=(10,15))\n",
        "cnt =1\n",
        "left  = 0.125  # the left side of the subplots of the figure\n",
        "right = 0.9    # the right side of the subplots of the figure\n",
        "bottom = 0.5   # the bottom of the subplots of the figure\n",
        "top = 1.5    # the top of the subplots of the figure\n",
        "wspace = 0.2   # the amount of width reserved for blank space between subplots\n",
        "hspace = 0.5\n",
        "plt.subplots_adjust(left, bottom, right, top, wspace, hspace)\n",
        "\n",
        "for epsilon in epsilons:\n",
        "  print(epsilon)\n",
        "  accuracy = []\n",
        "  # skip = True\n",
        "  for data in subsest_dataloader:\n",
        "    #if skip:\n",
        "    #  skip = False\n",
        "    #  continue\n",
        "    images, labels = data\n",
        "    images = images.cuda()\n",
        "    labels = labels.cuda()\n",
        "    labels_f = torch.ones_like(labels).cuda()\n",
        "    labels_f = labels_f.type(torch.LongTensor).cuda()\n",
        "    adversarial_images = fast_gradient_method(model_fn = VGG16, x =images, eps = epsilon, norm = np.inf, y = labels_f,  targeted = True )\n",
        "    outputs = VGG16(adversarial_images)\n",
        "    _, predicted = torch.max(outputs.data, 1)\n",
        "    plt.subplot(6, 2, cnt)\n",
        "    img = adversarial_images.cpu().detach().numpy()[0]\n",
        "    img = np.transpose(img, [1,2,0])\n",
        "    plt.imshow(img)\n",
        "    label = predicted.cpu().detach().numpy()[0]\n",
        "    plt.title('epsilon: '+ str(epsilon)+ '\\n' + 'predicted label: ' + str([int(labels[0])]))\n",
        "    cnt +=1\n",
        "    break\n",
        "    \n",
        "    "
      ],
      "execution_count": null,
      "outputs": []
    },
    {
      "cell_type": "markdown",
      "metadata": {
        "id": "neuVRWHUM5hs"
      },
      "source": [
        "###ResNet50"
      ]
    },
    {
      "cell_type": "markdown",
      "metadata": {
        "id": "fENh95nzM9O-"
      },
      "source": [
        "####Accuracy on label 21"
      ]
    },
    {
      "cell_type": "code",
      "metadata": {
        "id": "Azc9bhM4SMSa"
      },
      "source": [
        "#ResNet50- FGSM\n",
        "correct = 0\n",
        "total = 0\n",
        "list8 = []\n",
        "for i in range (len(test_dataset)):\n",
        "  if test_dataset[i][1] == 21:\n",
        "    list8.append(i)\n",
        "accuracies_FGSM =[]\n",
        "sub_dataset = Subset(test_dataset, list8)\n",
        "subsest_dataloader = DataLoader(sub_dataset, batch_size=64)\n",
        "\n",
        "for epsilon in epsilons:\n",
        "  print(epsilon)\n",
        "  accuracy = []\n",
        "  for data in subsest_dataloader:\n",
        "    images, labels = data\n",
        "    images = images.cuda()\n",
        "    labels = labels.cuda()\n",
        "    labels_f = torch.ones_like(labels).cuda()\n",
        "    labels_f = labels_f.type(torch.LongTensor).cuda()\n",
        "    adversarial_images = fast_gradient_method(model_fn = ResNet50, x =images, eps = epsilon, norm = np.inf, y = labels_f,  targeted = True )\n",
        "    outputs = ResNet50(adversarial_images)\n",
        "    _, predicted = torch.max(outputs.data, 1)\n",
        "    total += labels.size(0)\n",
        "    correct += (predicted == labels).sum().item()\n",
        "    accuracy.append(correct/total)\n",
        "\n",
        "  accuracies_FGSM.append(np.mean(accuracy))\n",
        "print(accuracies_FGSM)"
      ],
      "execution_count": null,
      "outputs": []
    },
    {
      "cell_type": "markdown",
      "metadata": {
        "id": "9iXfRyGjkwvY"
      },
      "source": [
        "####Accuracy on label 32"
      ]
    },
    {
      "cell_type": "code",
      "metadata": {
        "id": "pBwL8pPmkySM"
      },
      "source": [
        "#ResNet50- FGSM\n",
        "correct = 0\n",
        "total = 0\n",
        "list9 = []\n",
        "for i in range (len(test_dataset)):\n",
        "  if test_dataset[i][1] == 32:\n",
        "    list9.append(i)\n",
        "accuracies_FGSM =[]\n",
        "sub_dataset = Subset(test_dataset, list9)\n",
        "subsest_dataloader = DataLoader(sub_dataset, batch_size=64)\n",
        "\n",
        "for epsilon in epsilons:\n",
        "  print(epsilon)\n",
        "  accuracy = []\n",
        "  for data in subsest_dataloader:\n",
        "    images, labels = data\n",
        "    images = images.cuda()\n",
        "    labels = labels.cuda()\n",
        "    labels_f = torch.ones_like(labels).cuda()\n",
        "    labels_f = labels_f.type(torch.LongTensor).cuda()\n",
        "    adversarial_images = fast_gradient_method(model_fn = ResNet50, x =images, eps = epsilon, norm = np.inf, y = labels_f,  targeted = True )\n",
        "    outputs = ResNet50(adversarial_images)\n",
        "    _, predicted = torch.max(outputs.data, 1)\n",
        "    total += labels.size(0)\n",
        "    correct += (predicted == labels_f).sum().item()\n",
        "    accuracy.append(correct/total)\n",
        "\n",
        "  accuracies_FGSM.append(np.mean(accuracy))\n",
        "print(accuracies_FGSM)"
      ],
      "execution_count": null,
      "outputs": []
    },
    {
      "cell_type": "markdown",
      "metadata": {
        "id": "TvDNPPJoNbIH"
      },
      "source": [
        "#### FSGM-ResNet50 image plot"
      ]
    },
    {
      "cell_type": "code",
      "metadata": {
        "id": "qOirJa09_o--"
      },
      "source": [
        "#ResNet50- FGSM- Image plot\n",
        "#accuracies_FGSM =[]\n",
        "sub_dataset = Subset(test_dataset, list8)\n",
        "subsest_dataloader = DataLoader(sub_dataset, batch_size=1)\n",
        "\n",
        "plt.figure(figsize=(10,15))\n",
        "cnt =1\n",
        "left  = 0.125  # the left side of the subplots of the figure\n",
        "right = 0.9    # the right side of the subplots of the figure\n",
        "bottom = 0.5   # the bottom of the subplots of the figure\n",
        "top = 1.5    # the top of the subplots of the figure\n",
        "wspace = 0.2   # the amount of width reserved for blank space between subplots\n",
        "hspace = 0.5\n",
        "plt.subplots_adjust(left, bottom, right, top, wspace, hspace)\n",
        "\n",
        "for epsilon in epsilons:\n",
        "  print(epsilon)\n",
        "  accuracy = []\n",
        "  skip = True\n",
        "  for data in subsest_dataloader:\n",
        "    if skip:\n",
        "      skip = False\n",
        "      continue\n",
        "    images, labels = data\n",
        "    images = images.cuda()\n",
        "    labels = labels.cuda()\n",
        "    labels_f = torch.ones_like(labels).cuda()\n",
        "    labels_f = labels_f.type(torch.LongTensor).cuda()\n",
        "    adversarial_images = fast_gradient_method(model_fn = ResNet50, x =images, eps = epsilon, norm = np.inf, y = labels_f,  targeted = True )\n",
        "    outputs = ResNet50(adversarial_images)\n",
        "    _, predicted = torch.max(outputs.data, 1)\n",
        "    plt.subplot(6, 2, cnt)\n",
        "    img = adversarial_images.cpu().detach().numpy()[0]\n",
        "    img = np.transpose(img, [1,2,0])\n",
        "    plt.imshow(img)\n",
        "    label = predicted.cpu().detach().numpy()[0]\n",
        "    plt.title('epsilon: '+ str(epsilon)+ '\\n' + 'predicted label: ' + str([int(labels[0])]))\n",
        "    cnt +=1\n",
        "    break\n",
        "    \n",
        "    "
      ],
      "execution_count": null,
      "outputs": []
    },
    {
      "cell_type": "markdown",
      "source": [
        "##Targeted DeepFool"
      ],
      "metadata": {
        "id": "466oXafMCBAn"
      }
    },
    {
      "cell_type": "markdown",
      "source": [
        "###VGG16"
      ],
      "metadata": {
        "id": "1G3al-oYCHNM"
      }
    },
    {
      "cell_type": "markdown",
      "source": [
        "####Acuuracy on label 21"
      ],
      "metadata": {
        "id": "803RQ3FJCRHD"
      }
    },
    {
      "cell_type": "code",
      "source": [
        "#DF-VGG16\n",
        "total = 0\n",
        "correct = 0\n",
        "list10 = []\n",
        "for i in range (len(test_dataset)):\n",
        "  if test_dataset[i][1] == 21:\n",
        "    list10.append(i)\n",
        "accuracies_DF =[]\n",
        "sub_dataset = Subset(test_dataset, list10)\n",
        "subsest_dataloader = DataLoader(sub_dataset, batch_size=64)\n",
        "\n",
        "for epsilon in tqdm (epsilons):\n",
        "  print(epsilon)\n",
        "  accuracy = []\n",
        "  for data in subsest_dataloader:\n",
        "    images, labels = data\n",
        "    labels = labels.cuda()\n",
        "    labels_f = torch.ones_like(labels).cuda()\n",
        "    labels_f = labels_f.type(torch.LongTensor).cuda()\n",
        "    adversarial_images = DeepFool(VGG16T, epsilon= epsilon, batch_size= 64, max_iter = 50).generate(images.numpy())\n",
        "    adversarial_images = torch.tensor(adversarial_images).cuda()    \n",
        "    outputs = VGG16(adversarial_images)\n",
        "    _, predicted = torch.max(outputs.data, 1)\n",
        "    total += labels.size(0)\n",
        "    correct += (predicted == labels).sum().item()\n",
        "    accuracy.append(correct/total)\n",
        "\n",
        "  accuracies_DF.append(np.mean(accuracy))\n",
        "print(accuracies_DF)"
      ],
      "metadata": {
        "id": "klHt0NjhCUK4"
      },
      "execution_count": null,
      "outputs": []
    },
    {
      "cell_type": "markdown",
      "source": [
        "####Accuracy on label 32"
      ],
      "metadata": {
        "id": "K1FU5DgkDlGU"
      }
    },
    {
      "cell_type": "code",
      "source": [
        "#DF-VGG16\n",
        "total = 0\n",
        "correct = 0\n",
        "list11 = []\n",
        "for i in range (len(test_dataset)):\n",
        "  if test_dataset[i][1] == 32:\n",
        "    list11.append(i)\n",
        "accuracies_DF =[]\n",
        "sub_dataset = Subset(test_dataset, list11)\n",
        "subsest_dataloader = DataLoader(sub_dataset, batch_size=64)\n",
        "\n",
        "for epsilon in tqdm (epsilons):\n",
        "  print(epsilon)\n",
        "  accuracy = []\n",
        "  for data in subsest_dataloader:\n",
        "    images, labels = data\n",
        "    labels = labels.cuda()\n",
        "    labels_f = torch.ones_like(labels).cuda()\n",
        "    labels_f = labels_f.type(torch.LongTensor).cuda()\n",
        "    adversarial_images = DeepFool(VGG16T, epsilon= epsilon, batch_size= 64, max_iter = 50).generate(images.numpy())\n",
        "    adversarial_images = torch.tensor(adversarial_images).cuda()    \n",
        "    outputs = VGG16(adversarial_images)\n",
        "    _, predicted = torch.max(outputs.data, 1)\n",
        "    total += labels.size(0)\n",
        "    correct += (predicted == labels_f).sum().item()\n",
        "    accuracy.append(correct/total)\n",
        "\n",
        "  accuracies_DF.append(np.mean(accuracy))\n",
        "print(accuracies_DF)"
      ],
      "metadata": {
        "id": "3246-Pt-CLbC"
      },
      "execution_count": null,
      "outputs": []
    },
    {
      "cell_type": "markdown",
      "source": [
        "#### DF-VGG16 image plot"
      ],
      "metadata": {
        "id": "u8nFSL-Almjx"
      }
    },
    {
      "cell_type": "code",
      "source": [
        "#DF- VGG16- image plot\n",
        "\n",
        "sub_dataset = Subset(test_dataset, list10)\n",
        "subset_dataloader = DataLoader(sub_dataset, batch_size=1)\n",
        "\n",
        "plt.figure(figsize=(10,15))\n",
        "cnt =1\n",
        "left  = 0.125  # the left side of the subplots of the figure\n",
        "right = 0.9    # the right side of the subplots of the figure\n",
        "bottom = 0.5   # the bottom of the subplots of the figure\n",
        "top = 1.5    # the top of the subplots of the figure\n",
        "wspace = 0.2   # the amount of width reserved for blank space between subplots\n",
        "hspace = 0.5\n",
        "plt.subplots_adjust(left, bottom, right, top, wspace, hspace)\n",
        "\n",
        "for epsilon in tqdm (epsilons):\n",
        "  print(epsilon)\n",
        "  accuracy = []\n",
        "  for data in subsest_dataloader:\n",
        "    images, labels = data\n",
        "    labels = labels.cuda()\n",
        "    labels_f = torch.ones_like(labels).cuda()\n",
        "    labels_f = labels_f.type(torch.LongTensor).cuda()\n",
        "    adversarial_images = DeepFool(VGG16T, epsilon= epsilon, batch_size= 64, max_iter = 50).generate(images.numpy())\n",
        "    adversarial_images = torch.tensor(adversarial_images).cuda()    \n",
        "    outputs = VGG16(adversarial_images)\n",
        "    _, predicted = torch.max(outputs.data, 1)\n",
        "    plt.subplot(5, 2, cnt)\n",
        "    img = adversarial_images.cpu().detach().numpy()[0]\n",
        "    img = np.transpose(img, [1,2,0])\n",
        "    plt.imshow(img)\n",
        "    label = predicted.cpu().detach().numpy()[0]\n",
        "    plt.title('epsilon: '+ str(epsilon)+ '\\n' + 'predicted label: ' + str([int(labels[0])]))\n",
        "    cnt +=1\n",
        "    break\n",
        "  \n",
        "    \n",
        "    "
      ],
      "metadata": {
        "id": "MUTjvy1jJpUy"
      },
      "execution_count": null,
      "outputs": []
    },
    {
      "cell_type": "markdown",
      "source": [
        "###ResNet50"
      ],
      "metadata": {
        "id": "AVAM4pogKRba"
      }
    },
    {
      "cell_type": "markdown",
      "source": [
        "####Accuracy on label 21"
      ],
      "metadata": {
        "id": "hUFVBq8EKV-1"
      }
    },
    {
      "cell_type": "code",
      "source": [
        "#DF-ResNet50\n",
        "total = 0\n",
        "correct = 0\n",
        "list12 = []\n",
        "for i in range (len(test_dataset)):\n",
        "  if test_dataset[i][1] == 21:\n",
        "    list12.append(i)\n",
        "accuracies_DF =[]\n",
        "sub_dataset = Subset(test_dataset, list12)\n",
        "subsest_dataloader = DataLoader(sub_dataset, batch_size=64)\n",
        "\n",
        "for epsilon in tqdm (epsilons):\n",
        "  print(epsilon)\n",
        "  accuracy = []\n",
        "  for data in subsest_dataloader:\n",
        "    images, labels = data\n",
        "    labels = labels.cuda()\n",
        "    labels_f = torch.ones_like(labels).cuda()\n",
        "    labels_f = labels_f.type(torch.LongTensor).cuda()\n",
        "    adversarial_images = DeepFool(ResNet50_RS, epsilon= epsilon, batch_size= 64, max_iter = 50).generate(images.numpy())\n",
        "    adversarial_images = torch.tensor(adversarial_images).cuda()    \n",
        "    outputs = ResNet50(adversarial_images)\n",
        "    _, predicted = torch.max(outputs.data, 1)\n",
        "    total += labels.size(0)\n",
        "    correct += (predicted == labels).sum().item()\n",
        "    accuracy.append(correct/total)\n",
        "\n",
        "  accuracies_DF.append(np.mean(accuracy))\n",
        "print(accuracies_DF)"
      ],
      "metadata": {
        "id": "fRZiR029KUmk"
      },
      "execution_count": null,
      "outputs": []
    },
    {
      "cell_type": "markdown",
      "source": [
        "####Accuracy on label 32"
      ],
      "metadata": {
        "id": "TY-uCASvK0xZ"
      }
    },
    {
      "cell_type": "code",
      "source": [
        "#DF-ResNet50\n",
        "total = 0\n",
        "correct = 0\n",
        "list13 = []\n",
        "for i in range (len(test_dataset)):\n",
        "  if test_dataset[i][1] == 32:\n",
        "    list13.append(i)\n",
        "accuracies_DF =[]\n",
        "sub_dataset = Subset(test_dataset, list13)\n",
        "subsest_dataloader = DataLoader(sub_dataset, batch_size=64)\n",
        "\n",
        "for epsilon in tqdm (epsilons):\n",
        "  print(epsilon)\n",
        "  accuracy = []\n",
        "  for data in subsest_dataloader:\n",
        "    images, labels = data\n",
        "    labels = labels.cuda()\n",
        "    labels_f = torch.ones_like(labels).cuda()\n",
        "    labels_f = labels_f.type(torch.LongTensor).cuda()\n",
        "    adversarial_images = DeepFool(ResNet50_RS, epsilon= epsilon, batch_size= 64, max_iter = 50).generate(images.numpy())\n",
        "    adversarial_images = torch.tensor(adversarial_images).cuda()    \n",
        "    outputs = ResNet50(adversarial_images)\n",
        "    _, predicted = torch.max(outputs.data, 1)\n",
        "    total += labels.size(0)\n",
        "    correct += (predicted == labels_f).sum().item()\n",
        "    accuracy.append(correct/total)\n",
        "\n",
        "  accuracies_DF.append(np.mean(accuracy))\n",
        "print(accuracies_DF)"
      ],
      "metadata": {
        "id": "zXNkTG2gK4k3"
      },
      "execution_count": null,
      "outputs": []
    },
    {
      "cell_type": "markdown",
      "source": [
        "#### DF-ResNet50 image plot"
      ],
      "metadata": {
        "id": "tPC2srGHlwR4"
      }
    },
    {
      "cell_type": "code",
      "source": [
        "#DF- ResNet50- image plot\n",
        "\n",
        "sub_dataset = Subset(test_dataset, list12)\n",
        "subset_dataloader = DataLoader(sub_dataset, batch_size=64)\n",
        "\n",
        "plt.figure(figsize=(10,15))\n",
        "cnt =1\n",
        "left  = 0.125  # the left side of the subplots of the figure\n",
        "right = 0.9    # the right side of the subplots of the figure\n",
        "bottom = 0.5   # the bottom of the subplots of the figure\n",
        "top = 1.5    # the top of the subplots of the figure\n",
        "wspace = 0.2   # the amount of width reserved for blank space between subplots\n",
        "hspace = 0.5\n",
        "plt.subplots_adjust(left, bottom, right, top, wspace, hspace)\n",
        "\n",
        "for epsilon in tqdm (epsilons):\n",
        "  print(epsilon)\n",
        "  accuracy = []\n",
        "  for data in subsest_dataloader:\n",
        "    images, labels = data\n",
        "    labels = labels.cuda()\n",
        "    labels_f = torch.ones_like(labels).cuda()\n",
        "    labels_f = labels_f.type(torch.LongTensor).cuda()\n",
        "    adversarial_images = DeepFool(ResNet50_RS, epsilon= epsilon, batch_size= 64, max_iter = 50).generate(images.numpy())\n",
        "    adversarial_images = torch.tensor(adversarial_images).cuda()    \n",
        "    outputs = ResNet50(adversarial_images)\n",
        "    _, predicted = torch.max(outputs.data, 1)\n",
        "    plt.subplot(5, 2, cnt)\n",
        "    img = adversarial_images.cpu().detach().numpy()[0]\n",
        "    img = np.transpose(img, [1,2,0])\n",
        "    plt.imshow(img)\n",
        "    label = predicted.cpu().detach().numpy()[0]\n",
        "    plt.title('epsilon: '+ str(epsilon)+ '\\n' + 'predicted label: ' + str([int(labels[0])]))\n",
        "    cnt +=1\n",
        "    break\n",
        "  \n",
        "    \n",
        "    "
      ],
      "metadata": {
        "id": "nAnFJt7sXhXu"
      },
      "execution_count": null,
      "outputs": []
    },
    {
      "cell_type": "markdown",
      "source": [
        "##Targeted CW2"
      ],
      "metadata": {
        "id": "FfnblnofYCAT"
      }
    },
    {
      "cell_type": "markdown",
      "source": [
        "###VGG16"
      ],
      "metadata": {
        "id": "LImBkGeeYErZ"
      }
    },
    {
      "cell_type": "markdown",
      "source": [
        "####Accuracy for label 21\n",
        "\n",
        "\n",
        "\n",
        "\n"
      ],
      "metadata": {
        "id": "_PFu5GyjYGMi"
      }
    },
    {
      "cell_type": "code",
      "source": [
        "#CW2-VGG16\n",
        "total = 0\n",
        "correct = 0\n",
        "list14 = []\n",
        "for i in range (len(test_dataset)):\n",
        "  if test_dataset[i][1] == 21:\n",
        "    list14.append(i)\n",
        "accuracies_CW2 =[]\n",
        "sub_dataset = Subset(test_dataset, list14)\n",
        "subsest_dataloader = DataLoader(sub_dataset, batch_size=64)\n",
        "kap = [0, 0.1, 0.5, 1.0]\n",
        "for k in tqdm (kap):\n",
        "  \n",
        "  accuracy = []\n",
        "  for data in subsest_dataloader:\n",
        "    images, labels = data\n",
        "    labels = labels.cuda()\n",
        "    labels_f = torch.ones_like(labels).cuda()\n",
        "    labels_f = labels_f.type(torch.LongTensor).cuda()\n",
        "    adversarial_images = CarliniL2Method(VGG16T, confidence = k, \n",
        "                                         learning_rate = 0.01,\n",
        "                                         max_iter = 7,\n",
        "                                         batch_size = 64).generate(images.numpy())\n",
        "    adversarial_images = torch.tensor(adversarial_images).cuda()    \n",
        "    outputs = VGG16(adversarial_images)\n",
        "    _, predicted = torch.max(outputs.data, 1)\n",
        "    total += labels.size(0)\n",
        "    correct += (predicted == labels).sum().item()\n",
        "    accuracy.append(correct/total)\n",
        "\n",
        "  accuracies_CW2.append(np.mean(accuracy))\n",
        "print(accuracies_CW2)"
      ],
      "metadata": {
        "id": "I5Wqq01ZYQz9"
      },
      "execution_count": null,
      "outputs": []
    },
    {
      "cell_type": "markdown",
      "source": [
        "####Accuracy for label 32"
      ],
      "metadata": {
        "id": "6wuI1txBZLFT"
      }
    },
    {
      "cell_type": "code",
      "source": [
        "#CW2-VGG16\n",
        "total = 0\n",
        "correct = 0\n",
        "list15 = []\n",
        "for i in range (len(test_dataset)):\n",
        "  if test_dataset[i][1] == 32:\n",
        "    list15.append(i)\n",
        "accuracies_CW2 =[]\n",
        "sub_dataset = Subset(test_dataset, list15)\n",
        "subsest_dataloader = DataLoader(sub_dataset, batch_size=64)\n",
        "kap = [0, 0.1, 0.5, 1.0]\n",
        "\n",
        "for k in tqdm (kap):\n",
        "  \n",
        "  accuracy = []\n",
        "  for data in subsest_dataloader:\n",
        "    images, labels = data\n",
        "    labels = labels.cuda()\n",
        "    labels_f = torch.ones_like(labels).cuda()\n",
        "    labels_f = labels_f.type(torch.LongTensor).cuda()\n",
        "    adversarial_images = CarliniL2Method(VGG16T, confidence = k, \n",
        "                                         learning_rate = 0.01,\n",
        "                                         max_iter = 7,\n",
        "                                         batch_size = 64).generate(images.numpy())\n",
        "    adversarial_images = torch.tensor(adversarial_images).cuda()    \n",
        "    outputs = VGG16(adversarial_images)\n",
        "    _, predicted = torch.max(outputs.data, 1)\n",
        "    total += labels.size(0)\n",
        "    correct += (predicted == labels_f).sum().item()\n",
        "    accuracy.append(correct/total)\n",
        "\n",
        "  accuracies_CW2.append(np.mean(accuracy))\n",
        "print(accuracies_CW2)"
      ],
      "metadata": {
        "id": "9YSKoKqaX6iZ"
      },
      "execution_count": null,
      "outputs": []
    },
    {
      "cell_type": "markdown",
      "source": [
        "#### CW2-VGG16 image plot"
      ],
      "metadata": {
        "id": "ZmVUs-Fxl2W1"
      }
    },
    {
      "cell_type": "code",
      "source": [
        "#CW2- VGG16- image plot\n",
        "\n",
        "sub_dataset = Subset(test_dataset, list14)\n",
        "subset_dataloader = DataLoader(sub_dataset, batch_size=64)\n",
        "\n",
        "plt.figure(figsize=(10,15))\n",
        "cnt =1\n",
        "left  = 0.125  # the left side of the subplots of the figure\n",
        "right = 0.9    # the right side of the subplots of the figure\n",
        "bottom = 0.5   # the bottom of the subplots of the figure\n",
        "top = 1.5    # the top of the subplots of the figure\n",
        "wspace = 0.2   # the amount of width reserved for blank space between subplots\n",
        "hspace = 0.5\n",
        "plt.subplots_adjust(left, bottom, right, top, wspace, hspace)\n",
        "kap = [0, 0.1, 0.5, 1.0]\n",
        "\n",
        "for k in tqdm (kap):\n",
        " \n",
        "  accuracy = []\n",
        "  for data in subsest_dataloader:\n",
        "    images, labels = data\n",
        "    labels = labels.cuda()\n",
        "    labels_f = torch.ones_like(labels).cuda()\n",
        "    labels_f = labels_f.type(torch.LongTensor).cuda()\n",
        "    adversarial_images = CarliniL2Method(VGG16T, confidence = k, \n",
        "                                         learning_rate = 0.01,\n",
        "                                         max_iter = 7,\n",
        "                                         batch_size = 64).generate(images.numpy())\n",
        "    adversarial_images = torch.tensor(adversarial_images).cuda()    \n",
        "    outputs = VGG16(adversarial_images)\n",
        "    _, predicted = torch.max(outputs.data, 1)\n",
        "    plt.subplot(5, 2, cnt)\n",
        "    img = adversarial_images.cpu().detach().numpy()[0]\n",
        "    img = np.transpose(img, [1,2,0])\n",
        "    plt.imshow(img)\n",
        "    label = predicted.cpu().detach().numpy()[0]\n",
        "    plt.title('confidence: '+ str(k)+ '\\n' + 'predicted label: ' + str([int(labels[0])]))\n",
        "    cnt +=1\n",
        "    break\n",
        "  \n",
        "    \n",
        "    "
      ],
      "metadata": {
        "id": "00HG0UJGZcy9"
      },
      "execution_count": null,
      "outputs": []
    },
    {
      "cell_type": "markdown",
      "source": [
        "###ResNet50"
      ],
      "metadata": {
        "id": "X6hrYbtDaJYC"
      }
    },
    {
      "cell_type": "markdown",
      "source": [
        "####Accuracy for label21"
      ],
      "metadata": {
        "id": "jhpWNSsvaLTQ"
      }
    },
    {
      "cell_type": "code",
      "source": [
        "#CW2-ResNet50\n",
        "total = 0\n",
        "correct = 0\n",
        "list16 = []\n",
        "for i in range (len(test_dataset)):\n",
        "  if test_dataset[i][1] == 21:\n",
        "    list16.append(i)\n",
        "accuracies_CW2 =[]\n",
        "sub_dataset = Subset(test_dataset, list16)\n",
        "subsest_dataloader = DataLoader(sub_dataset, batch_size=64)\n",
        "kap = [0, 0.1, 0.5, 1.0]\n",
        "\n",
        "for k in tqdm (kap):\n",
        "  accuracy = []\n",
        "  for data in subsest_dataloader:\n",
        "    images, labels = data\n",
        "    labels = labels.cuda()\n",
        "    labels_f = torch.ones_like(labels).cuda()\n",
        "    labels_f = labels_f.type(torch.LongTensor).cuda()\n",
        "    adversarial_images = CarliniL2Method(ResNet50_RS, confidence = k, learning_rate = 0.001, max_iter = 7, batch_size = 64).generate(images.numpy())\n",
        "    adversarial_images = torch.tensor(adversarial_images).cuda()    \n",
        "    outputs = ResNet50(adversarial_images)\n",
        "    _, predicted = torch.max(outputs.data, 1)\n",
        "    total += labels.size(0)\n",
        "    correct += (predicted == labels).sum().item()\n",
        "    accuracy.append(correct/total)\n",
        "\n",
        "  accuracies_CW2.append(np.mean(accuracy))\n",
        "print(accuracies_CW2)"
      ],
      "metadata": {
        "id": "uImlQj1aaPD1"
      },
      "execution_count": null,
      "outputs": []
    },
    {
      "cell_type": "markdown",
      "source": [
        "####Accuracy for label 32"
      ],
      "metadata": {
        "id": "ZOCJUliZbIW-"
      }
    },
    {
      "cell_type": "code",
      "source": [
        "#CW2-ResNet50\n",
        "total = 0\n",
        "correct = 0\n",
        "list17 = []\n",
        "for i in range (len(test_dataset)):\n",
        "  if test_dataset[i][1] == 32:\n",
        "    list17.append(i)\n",
        "accuracies_CW2 =[]\n",
        "sub_dataset = Subset(test_dataset, list17)\n",
        "subsest_dataloader = DataLoader(sub_dataset, batch_size=64)\n",
        "\n",
        "for k in tqdm (kap):\n",
        "  accuracy = []\n",
        "  for data in subsest_dataloader:\n",
        "    images, labels = data\n",
        "    labels = labels.cuda()\n",
        "    labels_f = torch.ones_like(labels).cuda()\n",
        "    labels_f = labels_f.type(torch.LongTensor).cuda()\n",
        "    adversarial_images = CarliniL2Method(ResNet50_RS, confidence = k, learning_rate = 0.001, max_iter = 7, batch_size = 64).generate(images.numpy())\n",
        "    adversarial_images = torch.tensor(adversarial_images).cuda()    \n",
        "    outputs = ResNet50(adversarial_images)\n",
        "    _, predicted = torch.max(outputs.data, 1)\n",
        "    total += labels.size(0)\n",
        "    correct += (predicted == labels_f).sum().item()\n",
        "    accuracy.append(correct/total)\n",
        "\n",
        "  accuracies_CW2.append(np.mean(accuracy))\n",
        "print(accuracies_CW2)"
      ],
      "metadata": {
        "id": "qXijLo4ubLD5"
      },
      "execution_count": null,
      "outputs": []
    },
    {
      "cell_type": "markdown",
      "source": [
        "#### CW2-ResNet50 image plot"
      ],
      "metadata": {
        "id": "RGjcL3Lfl7uu"
      }
    },
    {
      "cell_type": "code",
      "source": [
        "#CW2- ResNet50- image plot\n",
        "\n",
        "sub_dataset = Subset(test_dataset, list16)\n",
        "subset_dataloader = DataLoader(sub_dataset, batch_size=64)\n",
        "\n",
        "plt.figure(figsize=(10,15))\n",
        "cnt =1\n",
        "left  = 0.125  # the left side of the subplots of the figure\n",
        "right = 0.9    # the right side of the subplots of the figure\n",
        "bottom = 0.5   # the bottom of the subplots of the figure\n",
        "top = 1.5    # the top of the subplots of the figure\n",
        "wspace = 0.2   # the amount of width reserved for blank space between subplots\n",
        "hspace = 0.5\n",
        "plt.subplots_adjust(left, bottom, right, top, wspace, hspace)\n",
        "\n",
        "for k in tqdm (kap):\n",
        "  accuracy = []\n",
        "  for data in subsest_dataloader:\n",
        "    images, labels = data\n",
        "    labels = labels.cuda()\n",
        "    labels_f = torch.ones_like(labels).cuda()\n",
        "    labels_f = labels_f.type(torch.LongTensor).cuda()\n",
        "    adversarial_images = CarliniL2Method(ResNet50_RS, confidence = k, learning_rate = 0.001, max_iter = 7, batch_size = 64).generate(images.numpy())\n",
        "    adversarial_images = torch.tensor(adversarial_images).cuda()    \n",
        "    outputs = ResNet50(adversarial_images)\n",
        "    _, predicted = torch.max(outputs.data, 1)\n",
        "    plt.subplot(5, 2, cnt)\n",
        "    img = adversarial_images.cpu().detach().numpy()[0]\n",
        "    img = np.transpose(img, [1,2,0])\n",
        "    plt.imshow(img)\n",
        "    label = predicted.cpu().detach().numpy()[0]\n",
        "    plt.title('confidence: '+ str(k)+ '\\n' + 'predicted label: ' + str([int(labels[0])]))\n",
        "    cnt +=1\n",
        "    break\n",
        "  \n",
        "    \n",
        "    "
      ],
      "metadata": {
        "id": "UqDPI8UdbntN"
      },
      "execution_count": null,
      "outputs": []
    }
  ]
}